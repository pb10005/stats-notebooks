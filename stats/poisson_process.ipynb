{
 "cells": [
  {
   "cell_type": "markdown",
   "id": "974e55ef",
   "metadata": {},
   "source": [
    "## ポアソン過程"
   ]
  },
  {
   "cell_type": "markdown",
   "id": "25a59ff9",
   "metadata": {},
   "source": [
    "### 問\n",
    "ある事象$S$の$n$回目の発生時刻を$T_n$とするとき、計数過程$N(t\\geq0)$を以下のように定める。\n",
    "\n",
    "$$\n",
    "N_0 = 0 \\\\\n",
    "N_t = \\sum_{k=1}^{\\infty} I(T_k \\leq t)\n",
    "$$\n",
    "\n",
    "$I(A)$は条件$A$のもとで事象が発生した場合は1, それ以外は0を返す。\n",
    "\n",
    "ここで事象の発生間隔\n",
    "$$\n",
    "W_k= T_k - T_{k-1}\n",
    "$$\n",
    "\n",
    "が独立に指数分布$Exp(\\lambda)$に従うと仮定するとき、確率変数$N_t$の従う確率分布を求めよ。"
   ]
  },
  {
   "cell_type": "markdown",
   "id": "d6baa747",
   "metadata": {},
   "source": [
    "### 解答\n",
    "$Exp(\\lambda)$は$Ga(1, 1/\\lambda)$と等しい分布であることを利用する。ガンマ分布の再生性より、\n",
    "$$\n",
    "T_n = \\sum_{k=1}^{n}W_k\n",
    "$$\n",
    "\n",
    "は$Ga(n, 1/\\lambda)$に従う。\n",
    "\n",
    "ここで、$N_t$の確率関数は\n",
    "$$\n",
    "\\begin{eqnarray}\n",
    "P(N_t = k) &=& P(T_k \\leq t, t \\lt T_{k+1}) \\\\\n",
    "&=& P(T_k \\leq t) - P(T_{k+1} \\leq t) \\\\\n",
    "&=& \\int_{0}^{t} \\frac{\\lambda^k}{\\Gamma(k)}x^{k-1}\\mathrm{e}^{-\\lambda x}dx - \\int_{0}^{t} \\frac{\\lambda^{k+1}}{\\Gamma(k+1)}x^{k}\\mathrm{e}^{-\\lambda x}dx \\\\\n",
    "&=& \\left[\\frac{\\lambda^k}{k\\Gamma(k)}x^k \\mathrm{e}^{-\\lambda x} \\right]_{0}^{t} \\\\\n",
    "&=& \\mathrm{e}^{-\\lambda t}\\frac{(\\lambda t) ^k}{k!}\n",
    "\\end{eqnarray}\n",
    "$$\n",
    "\n",
    "となるため、$N_t$はパラメータ$\\lambda t$のポアソン分布に従う。"
   ]
  },
  {
   "cell_type": "code",
   "execution_count": null,
   "id": "5b3d3d56",
   "metadata": {},
   "outputs": [],
   "source": []
  }
 ],
 "metadata": {
  "kernelspec": {
   "display_name": "Python 3",
   "language": "python",
   "name": "python3"
  },
  "language_info": {
   "codemirror_mode": {
    "name": "ipython",
    "version": 3
   },
   "file_extension": ".py",
   "mimetype": "text/x-python",
   "name": "python",
   "nbconvert_exporter": "python",
   "pygments_lexer": "ipython3",
   "version": "3.8.8"
  }
 },
 "nbformat": 4,
 "nbformat_minor": 5
}
