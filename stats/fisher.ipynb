{
 "cells": [
  {
   "cell_type": "markdown",
   "id": "ed72e823",
   "metadata": {},
   "source": [
    "# フィッシャー情報量"
   ]
  },
  {
   "cell_type": "markdown",
   "id": "028ca4c4",
   "metadata": {},
   "source": [
    "## 定義\n",
    "フィッシャー情報量$\\mathrm{I}(\\theta)$は対数尤度関数$\\log \\mathrm{L}(\\theta)$を使って以下で表される。\n",
    "式変形の等号が成り立つことは$\\int_{-\\infty}^{\\infty} \\mathrm{L}(\\theta;x) dx = 1$の両辺を$\\theta$で繰り返し偏微分するとわかる。\n",
    "\n",
    "$$\n",
    "\\begin{eqnarray}\n",
    "\\mathrm{I}(\\theta) &=& \\mathrm{E} \\left[ \\left( \\frac{\\partial}{\\partial \\theta} \\log \\mathrm{L}(\\theta) \\right)^2 \\right] \\\\\n",
    "&=& \\mathrm{E} \\left[ -\\frac{\\partial^2}{\\partial \\theta^2} \\log \\mathrm{L}(\\theta) \\right] \\\\\n",
    "&=& \\mathrm{V} \\left[ \\frac{\\partial}{\\partial \\theta} \\log \\mathrm{L}(\\theta) \\right]\n",
    "\\end{eqnarray}\n",
    "$$"
   ]
  },
  {
   "cell_type": "markdown",
   "id": "1a776d8e",
   "metadata": {},
   "source": [
    "## アイデア\n",
    "情報量とはその名の通り情報の多さを表すイメージ。\n",
    "\n",
    "ここでの情報とはパラメータを推定するために推定量が持っている情報にあたる。\n",
    "\n",
    "フィッシャー情報量は、「パラメータを推定するための情報が多ければ多いほど、推定量のばらつきが小さくなる」というアイデアに基づいている。\n",
    "\n",
    "### 注意点\n",
    "上記の通りフィッシャー情報量は推定量の分散に関する議論しかしないので、推定量の期待値に関する議論(不偏性)が別途必要となること。"
   ]
  },
  {
   "cell_type": "markdown",
   "id": "87a4f4bd",
   "metadata": {},
   "source": [
    "## どう使う？\n",
    "フィッシャー情報量を用いて、あるパラメータに対する推定量の分散の下限を与える(クラメール・ラオの不等式)ことができる。\n",
    "\n",
    "ある不偏推定量についてクラメール・ラオの不等式の等号が成立するとき、その推定量を有効推定量と呼ぶ。有効推定量は一様最小分散不偏推定量である(十分条件だが必要条件ではない)。"
   ]
  },
  {
   "cell_type": "markdown",
   "id": "ab486b16",
   "metadata": {},
   "source": [
    "### クラメール・ラオの不等式\n",
    "パラメータ$\\theta$の不偏推定量$t(x)$について以下の不等式が成り立つ。\n",
    "$$\n",
    "\\mathrm{V}[t(x)] \\geq \\frac{1}{\\mathrm{I}(\\theta)}\n",
    "$$"
   ]
  },
  {
   "cell_type": "markdown",
   "id": "6d453d57",
   "metadata": {},
   "source": [
    "#### 証明\n",
    "まず以下の等式を示す。以下積分区間は$x$のとりうる範囲とする。\n",
    "$$\n",
    "\\int \\left(t(x) - \\theta \\right) \\frac{\\partial}{\\partial \\theta} f_\\theta (x)dx = 1 \\tag{1}\n",
    "$$\n",
    "\n",
    "$t(x)$は不偏推定量なので、$t(x)$の期待値について以下の等式が成り立つ。\n",
    "\n",
    "$$\n",
    "\\int t(x)f_\\theta (x)dx = \\theta \\tag{2}\n",
    "$$\n",
    "\n",
    "また、確率密度関数の性質から$f_\\theta(x)$について以下の等式が成り立つ。\n",
    "\n",
    "$$\n",
    "\\int f_\\theta (x)dx = 1 \\tag{3}\n",
    "$$\n",
    "\n",
    "(2), (3)の両辺を$\\theta$で偏微分すると以下の等式が得られる。ただし微分と積分の順序交換が可能であると仮定した。\n",
    "\n",
    "$$\n",
    "\\int t(x) \\frac{\\partial}{\\partial \\theta} f_\\theta(x)dx = 1 \\\\\n",
    "\\int \\frac{\\partial}{\\partial \\theta} f_\\theta(x)dx = 0\n",
    "$$\n",
    "\n",
    "これより(1)が成り立つことが示された。\n",
    "\n",
    "次に、以下の等式が成り立つことを用いる。\n",
    "\n",
    "$$\n",
    "\\frac{\\partial}{\\partial \\theta} \\log f_\\theta(x) = \\frac{1}{f_\\theta(x)} \\frac{\\partial}{\\partial \\theta} f_\\theta(x)\n",
    "$$\n",
    "\n",
    "これを用いて(1)を変形すると、以下の等式が得られる。\n",
    "\n",
    "$$\n",
    "\\int \\left(t(x) - \\theta \\right) \\left(\\frac{\\partial}{\\partial \\theta} \\log f_\\theta (x)\\right) f_\\theta(x) dx = 1 \\tag{4}\n",
    "$$\n",
    "\n",
    "ここで$g_\\theta(x) = t(x)-\\theta, h_\\theta(x) = \\frac{\\partial}{\\partial \\theta} \\log f_\\theta (x)$として、コーシー・シュワルツの不等式から$g_\\theta(x),h_\\theta(x)$の分散に関する不等式を導く。すなわち、\n",
    "\n",
    "$$\n",
    "\\left(\\mathrm{Cov} [g_\\theta(x), h_\\theta(x)]\\right)^2 \\leq \\mathrm{V}[g_\\theta(x)] \\mathrm{V}[h_\\theta(x)]\\tag{5}\n",
    "$$\n",
    "\n",
    "(5)の左辺は$\\mathrm{Cov} [g_\\theta(x), h_\\theta(x)] = \\mathrm{E}[g_\\theta(x)h_\\theta(x)] - \\mathrm{E}[g_\\theta(x)]\\mathrm{E}[h_\\theta(x)]= 1$ より1となる。\n",
    "\n",
    "ここで(4)と、$t(x)$の期待値が$\\theta$となることを用いた。\n",
    "\n",
    "また、(5)の右辺は$\\mathrm{V}[g_\\theta(x)] \\mathrm{V}[h_\\theta(x)] = \\mathrm{V}[t(x)]\\mathrm{I}(\\theta)$となるので、元の不等式が得られる。"
   ]
  }
 ],
 "metadata": {
  "kernelspec": {
   "display_name": "Python 3",
   "language": "python",
   "name": "python3"
  },
  "language_info": {
   "codemirror_mode": {
    "name": "ipython",
    "version": 3
   },
   "file_extension": ".py",
   "mimetype": "text/x-python",
   "name": "python",
   "nbconvert_exporter": "python",
   "pygments_lexer": "ipython3",
   "version": "3.8.8"
  }
 },
 "nbformat": 4,
 "nbformat_minor": 5
}
