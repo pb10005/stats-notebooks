{
 "cells": [
  {
   "cell_type": "markdown",
   "id": "0520e2f6",
   "metadata": {},
   "source": [
    "# t分布の確率密度関数の導出"
   ]
  },
  {
   "cell_type": "markdown",
   "id": "48851f81",
   "metadata": {},
   "source": [
    "## なぜt分布か\n",
    "t分布の確率密度関数の導出をやると、手を動かしながら以下をまとめて覚えることができる\n",
    "- t分布の定義\n",
    "- 標準正規分布の確率密度関数\n",
    "- カイ二乗分布の確率密度関数\n",
    "- 2変量の変数変換\n",
    "- 同時確率密度関数と周辺確率密度関数\n",
    "- ガンマ関数\n",
    "- ベータ関数とガンマ関数の関係"
   ]
  },
  {
   "cell_type": "markdown",
   "id": "de276556",
   "metadata": {},
   "source": [
    "## 導出の流れ\n",
    "1. 定義に従って変数変換し、ヤコビアンを求める\n",
    "1. 同時確率密度関数を積分して周辺確率密度関数を求める\n"
   ]
  },
  {
   "cell_type": "markdown",
   "id": "dd9e1690",
   "metadata": {},
   "source": [
    "### t分布の定義\n",
    "$X$を標準正規分布, $Y$を自由度$n$のカイ二乗分布に従う確率変数とする。このとき、\n",
    "$$\n",
    "T = \\frac{X}{\\sqrt{Y/n}} \n",
    "$$\n",
    "が従う分布をスチューデントのt分布と呼ぶ。"
   ]
  },
  {
   "cell_type": "markdown",
   "id": "56b6930e",
   "metadata": {},
   "source": [
    "### 変数変換\n",
    "$$\n",
    "\\left\\{\n",
    "\\begin{array}{}\n",
    "T = \\frac{X}{\\sqrt{Y/n}} \\\\\n",
    "W = Y \n",
    "\\end{array}\n",
    "\\right.\n",
    "$$\n",
    "と変数変換する。$X, Y$について解くと\n",
    "$$\n",
    "\\left\\{\n",
    "\\begin{array}{}\n",
    "X = \\sqrt{\\frac{W}{n}}T \\\\\n",
    "Y = W\n",
    "\\end{array}\n",
    "\\right.\n",
    "$$\n",
    "となるので、ヤコビ行列$J$は\n",
    "$$\n",
    "\\begin{eqnarray}\n",
    "J &=& \n",
    "\\begin{pmatrix}\n",
    "\\frac{\\partial X}{\\partial T} &  \\frac{\\partial X}{\\partial W} \\\\\n",
    "\\frac{\\partial Y}{\\partial T} &  \\frac{\\partial Y}{\\partial W} \\\\\n",
    "\\end{pmatrix} \\\\\n",
    "&=& \n",
    "\\begin{pmatrix}\n",
    "\\sqrt{\\frac{W}{n}} &  \\frac{T}{\\sqrt{2nW}} \\\\\n",
    "0 &  1 \\\\\n",
    "\\end{pmatrix}\n",
    "\\end{eqnarray}\n",
    "$$\n",
    "となり、ヤコビアンは$|J| = \\sqrt{\\frac{W}{n}}$となる"
   ]
  },
  {
   "cell_type": "markdown",
   "id": "69347a27",
   "metadata": {},
   "source": [
    "### 同時確率密度関数の導出\n",
    "$X,Y$は独立であることから、$X,Y$の同時確率密度関数は各変数の確率密度関数の積に等しい。\n",
    "\n",
    "$$\n",
    "\\begin{eqnarray}\n",
    "f_{X,Y} (x,y) &=& f_X(x)f_Y(y) \\\\\n",
    "&=& \\frac{1}{\\sqrt{2\\pi}}\\mathrm{e}^{-\\frac{x^2}{2}} \\frac{1}{\\Gamma (\\frac{n}{2}) 2^{\\frac{n}{2}}} y^{\\frac{n}{2} - 1}\\mathrm{e}^{-\\frac{y}{2}} \\\\\n",
    "&=& \\frac{1}{\\sqrt{2\\pi}\\Gamma (\\frac{n}{2}) 2 ^{\\frac{n}{2}}}y^{\\frac{n}{2} - 1}\\mathrm{e}^{-\\frac{x^2}{2}-\\frac{y}{2}}\n",
    "\\end{eqnarray}\n",
    "$$\n",
    "\n",
    "よって$T,W$の同時確率密度関数は\n",
    "$$\n",
    "\\begin{eqnarray}\n",
    "f_{T,W} (t, w) &=& f_{X,Y} (\\sqrt{w/n} \\cdot t,w) |J| \\\\\n",
    "&=& \\frac{1}{\\sqrt{2\\pi}\\Gamma (\\frac{n}{2}) 2 ^{\\frac{n}{2}}} w^{\\frac{n}{2} - 1}\\mathrm{e}^{-\\left(\\frac{t^2}{2n} + \\frac{1}{2}\\right)w} \\sqrt{\\frac{w}{n}} \\\\\n",
    "&=& \\frac{1}{\\sqrt{2\\pi n}\\Gamma (\\frac{n}{2}) 2 ^{\\frac{n}{2}}} w^{\\frac{n}{2} - \\frac{1}{2}}\\mathrm{e}^{-\\left(\\frac{t^2}{2n} + \\frac{1}{2}\\right)w}\n",
    "\\end{eqnarray}\n",
    "$$\n"
   ]
  },
  {
   "cell_type": "markdown",
   "id": "ed9b6a91",
   "metadata": {},
   "source": [
    "### 周辺確率密度関数の導出\n",
    "$$\n",
    "f_T(t) = \\int_{0}^{\\infty}f_{T,W}(t,w) dw\n",
    "$$\n",
    "により$T$の周辺確率密度関数を求める。\n",
    "\n",
    "$s = (\\frac{t^2}{2n} + \\frac{1}{2})w$と変数変換すると$dw = (\\frac{t^2}{2n} + \\frac{1}{2})^{-1}ds$\n",
    "より、\n",
    "$$\n",
    "\\begin{eqnarray}\n",
    "f_T(t) &=& \\frac{1}{\\sqrt{2\\pi n}\\Gamma (\\frac{n}{2}) 2 ^{\\frac{n}{2}}} \\left(\\frac{t^2}{2n} + \\frac{1}{2}\\right)^{-\\frac{n}{2}-\\frac{1}{2}} \\int_{0}^{\\infty}s^{\\frac{n}{2} + \\frac{1}{2} - 1}\\mathrm{e}^{-s}ds \\\\\n",
    "&=& \\frac{\\Gamma (\\frac{n}{2} + \\frac{1}{2})}{\\sqrt{\\pi n}\\Gamma (\\frac{n}{2}) } \\left(\\frac{t^2}{n} + 1\\right)^{-\\frac{n}{2}-\\frac{1}{2}} \\tag{1}\n",
    "\\end{eqnarray}\n",
    "$$"
   ]
  },
  {
   "cell_type": "markdown",
   "id": "1f249390",
   "metadata": {},
   "source": [
    "### ベータ関数で書き換える\n",
    "ベータ関数とガンマ関数の関係\n",
    "$$\n",
    "B(a,b)=\\frac{\\Gamma(a)\\Gamma(b)}{\\Gamma(a+b)}\n",
    "$$\n",
    "を用いると、\n",
    "$$\n",
    "\\begin{eqnarray}\n",
    "B(\\frac{n}{2},\\frac{1}{2}) &=& \\frac{\\Gamma(\\frac{n}{2})\\Gamma(\\frac{1}{2})}{\\Gamma(\\frac{n}{2}+\\frac{1}{2})} \\\\\n",
    "&=& \\frac{\\sqrt{\\pi}\\Gamma(\\frac{n}{2})}{\\Gamma(\\frac{n}{2}+\\frac{1}{2})}\n",
    "\\end{eqnarray}\n",
    "$$\n",
    "となるので、(1)をベータ関数を用いて書き換えると\n",
    "$$\n",
    "f_T(t) = \\frac{1}{\\sqrt{n}B(\\frac{n}{2},\\frac{1}{2})}\\left(\\frac{t^2}{n} + 1\\right)^{-\\frac{n}{2}-\\frac{1}{2}}\n",
    "$$\n",
    "となる。"
   ]
  }
 ],
 "metadata": {
  "kernelspec": {
   "display_name": "Python 3",
   "language": "python",
   "name": "python3"
  },
  "language_info": {
   "codemirror_mode": {
    "name": "ipython",
    "version": 3
   },
   "file_extension": ".py",
   "mimetype": "text/x-python",
   "name": "python",
   "nbconvert_exporter": "python",
   "pygments_lexer": "ipython3",
   "version": "3.8.8"
  }
 },
 "nbformat": 4,
 "nbformat_minor": 5
}
